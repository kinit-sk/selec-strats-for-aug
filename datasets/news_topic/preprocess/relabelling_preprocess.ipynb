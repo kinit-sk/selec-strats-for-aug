{
 "cells": [
  {
   "cell_type": "code",
   "execution_count": 1,
   "id": "68aecf82-b8cc-4842-a980-19ae78f798fd",
   "metadata": {},
   "outputs": [
    {
     "data": {
      "application/vnd.jupyter.widget-view+json": {
       "model_id": "cfa35c13d0ae4a52855713c7bc6e3033",
       "version_major": 2,
       "version_minor": 0
      },
      "text/plain": [
       "Downloading readme:   0%|          | 0.00/101 [00:00<?, ?B/s]"
      ]
     },
     "metadata": {},
     "output_type": "display_data"
    },
    {
     "data": {
      "application/vnd.jupyter.widget-view+json": {
       "model_id": "867d2a77d96848b883826d9a8d5e5eb6",
       "version_major": 2,
       "version_minor": 0
      },
      "text/plain": [
       "Downloading data:   0%|          | 0.00/87.3M [00:00<?, ?B/s]"
      ]
     },
     "metadata": {},
     "output_type": "display_data"
    },
    {
     "data": {
      "application/vnd.jupyter.widget-view+json": {
       "model_id": "86216c2264b04361afd1ae9d7fb0a230",
       "version_major": 2,
       "version_minor": 0
      },
      "text/plain": [
       "Generating train split:   0%|          | 0/209527 [00:00<?, ? examples/s]"
      ]
     },
     "metadata": {},
     "output_type": "display_data"
    }
   ],
   "source": [
    "import pandas as pd\n",
    "\n",
    "from datasets import load_dataset\n",
    "\n",
    "dataset = load_dataset(\"heegyu/news-category-dataset\")"
   ]
  },
  {
   "cell_type": "code",
   "execution_count": 10,
   "id": "3e8f5a0a-5caa-4a86-bf61-3c4218a44725",
   "metadata": {},
   "outputs": [],
   "source": [
    "def remove_user_and_links(text):\n",
    "    new_text = []\n",
    "    for t in text.split(\" \"):\n",
    "        t = '@user' if t.startswith('@') and len(t) > 1 else t\n",
    "        t = 'http' if t.startswith('http') else t\n",
    "        new_text.append(t)\n",
    "    return \" \".join(new_text)\n",
    "    \n",
    "def lower_case(text):\n",
    "    text = text.lower()\n",
    "    return text\n",
    "    \n",
    "def preprocess_text(text):\n",
    "    text = lower_case(text)\n",
    "    text = remove_user_and_links(text)\n",
    "    return text"
   ]
  },
  {
   "cell_type": "code",
   "execution_count": 19,
   "id": "e98e8495-94c9-4ea0-a1b6-6f70c646a3ad",
   "metadata": {},
   "outputs": [],
   "source": [
    "df = dataset['train'].to_pandas()[['headline', 'category', 'short_description']]"
   ]
  },
  {
   "cell_type": "code",
   "execution_count": 20,
   "id": "cb8a9d25-e04b-4131-94c7-78951cce8ee2",
   "metadata": {},
   "outputs": [],
   "source": [
    "df = df[(df['category'] == 'WORLD NEWS') | (df['category'] == 'POLITICS') | (df['category'] == 'U.S. NEWS') | (df['category'] =='SPORTS') | (df['category'] == 'BUSINESS') | (df['category'] == 'SCIENCE') | (df['category'] == 'TECH')]"
   ]
  },
  {
   "cell_type": "markdown",
   "id": "dc84ecb3-2728-4781-bf76-51effa5f4219",
   "metadata": {},
   "source": [
    "Consists of class ids 1-4 where 1-World, 2-Sports, 3-Business, 4-Sci/Tech "
   ]
  },
  {
   "cell_type": "code",
   "execution_count": 21,
   "id": "bf05ce93-4fd0-4c3e-9837-d4c5375e40a7",
   "metadata": {},
   "outputs": [],
   "source": [
    "df['text'] = df['headline'] + ' ' + df['short_description']\n",
    "\n",
    "df['text'] = df['text'].apply(preprocess_text)\n",
    "\n",
    "df = df[['text', 'category']]"
   ]
  },
  {
   "cell_type": "code",
   "execution_count": 22,
   "id": "1a80ad48-cebe-4837-ba6b-518d67834c34",
   "metadata": {},
   "outputs": [],
   "source": [
    "df.loc[df['category'].isin(['WORLD NEWS', 'POLITICS', 'U.S. NEWS']), 'category'] = 0\n",
    "df.loc[df['category'].isin(['SPORTS']), 'category'] = 1\n",
    "df.loc[df['category'].isin(['BUSINESS']), 'category'] = 2\n",
    "df.loc[df['category'].isin(['SCIENCE', 'TECH']), 'category'] = 3"
   ]
  },
  {
   "cell_type": "code",
   "execution_count": 25,
   "id": "8bd42fcd-5e78-452c-af71-5ec131c1e6ea",
   "metadata": {},
   "outputs": [],
   "source": [
    "df = df.rename(columns={'category': 'label'})"
   ]
  },
  {
   "cell_type": "code",
   "execution_count": 30,
   "id": "e3baea67-ffca-4df4-9aa8-0d862d3e69a0",
   "metadata": {},
   "outputs": [],
   "source": [
    "from sklearn.model_selection import train_test_split\n",
    "df_t, df_tes  = train_test_split(df, test_size=0.2, random_state=42)"
   ]
  },
  {
   "cell_type": "code",
   "execution_count": 34,
   "id": "b59c82c3-4d53-46f5-b69a-991da71dfb5e",
   "metadata": {},
   "outputs": [],
   "source": [
    "df_t.to_csv('train.csv', index=False)\n",
    "df_tes.to_csv('test.csv', index=False)"
   ]
  }
 ],
 "metadata": {
  "kernelspec": {
   "display_name": "Python 3 (ipykernel)",
   "language": "python",
   "name": "python3"
  },
  "language_info": {
   "codemirror_mode": {
    "name": "ipython",
    "version": 3
   },
   "file_extension": ".py",
   "mimetype": "text/x-python",
   "name": "python",
   "nbconvert_exporter": "python",
   "pygments_lexer": "ipython3",
   "version": "3.10.8"
  }
 },
 "nbformat": 4,
 "nbformat_minor": 5
}

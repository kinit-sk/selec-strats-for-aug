{
 "cells": [
  {
   "cell_type": "code",
   "execution_count": 1,
   "id": "55fa4b21-c7b8-437c-b827-f54567b8126b",
   "metadata": {},
   "outputs": [
    {
     "data": {
      "application/vnd.jupyter.widget-view+json": {
       "model_id": "2c884e5629094bf4928454fafffa483d",
       "version_major": 2,
       "version_minor": 0
      },
      "text/plain": [
       "Downloading builder script:   0%|          | 0.00/5.09k [00:00<?, ?B/s]"
      ]
     },
     "metadata": {},
     "output_type": "display_data"
    },
    {
     "data": {
      "application/vnd.jupyter.widget-view+json": {
       "model_id": "0ddc4ea4771f47f4b289df90639e7718",
       "version_major": 2,
       "version_minor": 0
      },
      "text/plain": [
       "Downloading readme:   0%|          | 0.00/10.6k [00:00<?, ?B/s]"
      ]
     },
     "metadata": {},
     "output_type": "display_data"
    },
    {
     "name": "stdin",
     "output_type": "stream",
     "text": [
      "The repository for trec contains custom code which must be executed to correctly load the dataset. You can inspect the repository content at https://hf.co/datasets/trec.\n",
      "You can avoid this prompt in future by passing the argument `trust_remote_code=True`.\n",
      "\n",
      "Do you wish to run the custom code? [y/N]  y\n"
     ]
    },
    {
     "data": {
      "application/vnd.jupyter.widget-view+json": {
       "model_id": "cedfa07d174f4f71bdfa61009a9ad3b0",
       "version_major": 2,
       "version_minor": 0
      },
      "text/plain": [
       "Downloading data:   0%|          | 0.00/336k [00:00<?, ?B/s]"
      ]
     },
     "metadata": {},
     "output_type": "display_data"
    },
    {
     "data": {
      "application/vnd.jupyter.widget-view+json": {
       "model_id": "db0c474b46af48e3adf577d75c307e58",
       "version_major": 2,
       "version_minor": 0
      },
      "text/plain": [
       "Downloading data:   0%|          | 0.00/23.4k [00:00<?, ?B/s]"
      ]
     },
     "metadata": {},
     "output_type": "display_data"
    },
    {
     "data": {
      "application/vnd.jupyter.widget-view+json": {
       "model_id": "67ba7bee1e644b2ba1d3f443ba4c9794",
       "version_major": 2,
       "version_minor": 0
      },
      "text/plain": [
       "Generating train split:   0%|          | 0/5452 [00:00<?, ? examples/s]"
      ]
     },
     "metadata": {},
     "output_type": "display_data"
    },
    {
     "data": {
      "application/vnd.jupyter.widget-view+json": {
       "model_id": "9d7726dcb8a64d68a361dc1ff2cc73d0",
       "version_major": 2,
       "version_minor": 0
      },
      "text/plain": [
       "Generating test split:   0%|          | 0/500 [00:00<?, ? examples/s]"
      ]
     },
     "metadata": {},
     "output_type": "display_data"
    }
   ],
   "source": [
    "import pandas as pd\n",
    "from datasets import load_dataset\n",
    "\n",
    "dataset = load_dataset(\"trec\")"
   ]
  },
  {
   "cell_type": "code",
   "execution_count": 2,
   "id": "0be3b7ff-9144-417b-bb57-21c3f26c9758",
   "metadata": {},
   "outputs": [],
   "source": [
    "df_train = dataset['train'].to_pandas()\n",
    "df_test = dataset['test'].to_pandas()"
   ]
  },
  {
   "cell_type": "code",
   "execution_count": 3,
   "id": "7bf4ecd5-428d-4df6-a980-53f9ef1b9f5c",
   "metadata": {},
   "outputs": [],
   "source": [
    "dfs = []\n",
    "labels_to_keep = [7, 3, 17, 48, 2, 14, 47, 24, 25, 0, 5, 28, 29, 39, 31, 16]\n",
    "for label in labels_to_keep:\n",
    "    df_tmp = df_train[df_train['fine_label'] == label]\n",
    "    dfs.append(df_tmp)\n",
    "df_train = pd.concat(dfs).rename(columns={'fine_label': 'label'})\n",
    "df_train = df_train.drop(['coarse_label'], axis=1)"
   ]
  },
  {
   "cell_type": "code",
   "execution_count": 4,
   "id": "3c25e628-8ce3-4f00-a04d-f76dc6fb3aba",
   "metadata": {},
   "outputs": [],
   "source": [
    "dfs = []\n",
    "labels_to_keep = [7, 3, 17, 48, 2, 14, 47, 24, 25, 0, 5, 28, 29, 39, 31, 16]\n",
    "for label in labels_to_keep:\n",
    "    df_tmp = df_test[df_test['fine_label'] == label]\n",
    "    dfs.append(df_tmp)\n",
    "df_test = pd.concat(dfs).rename(columns={'fine_label': 'label'})\n",
    "df_test = df_test.drop(['coarse_label'], axis=1)"
   ]
  },
  {
   "cell_type": "code",
   "execution_count": 102,
   "id": "16f713ea-444d-47ab-8008-6a95e79510bf",
   "metadata": {},
   "outputs": [],
   "source": [
    "df_train.to_csv('train.csv', index=False)\n",
    "df_test.to_csv('test.csv', index=False)"
   ]
  },
  {
   "cell_type": "code",
   "execution_count": 103,
   "id": "7de428ad-4f31-4b9a-9d67-c6d4301e59ab",
   "metadata": {},
   "outputs": [],
   "source": [
    "from sklearn.model_selection import train_test_split\n",
    "df_t, df_tes  = train_test_split(pd.concat([df_train, df_test]), test_size=0.3, random_state=42)"
   ]
  },
  {
   "cell_type": "code",
   "execution_count": 104,
   "id": "5e415613-7ec2-4131-a850-9093dfc18ef4",
   "metadata": {},
   "outputs": [],
   "source": [
    "df_t.to_csv('train.csv', index=False)\n",
    "df_tes.to_csv('test.csv', index=False)"
   ]
  },
  {
   "cell_type": "code",
   "execution_count": 5,
   "id": "2cec0051-1988-4bf5-8d44-47d54d9006b3",
   "metadata": {},
   "outputs": [],
   "source": [
    "df_train = pd.read_csv('train.csv')\n",
    "df_test = pd.read_csv('test.csv')"
   ]
  },
  {
   "cell_type": "code",
   "execution_count": 6,
   "id": "9be19604-3471-4934-8dca-3fabd689b088",
   "metadata": {},
   "outputs": [],
   "source": [
    "df_train.loc[df_train['label'].isin([48, 2, 14, 47]), 'label'] = 1\n",
    "df_train.loc[df_train['label'].isin([7, 3]), 'label'] = 2\n",
    "df_train.loc[df_train['label'].isin([17]), 'label'] = 4\n",
    "df_train.loc[df_train['label'].isin([24, 25, 0]), 'label'] = 3\n",
    "df_train.loc[df_train['label'].isin([5]), 'label'] = 5\n",
    "df_train.loc[df_train['label'].isin([28, 29, 39, 31, 16]), 'label'] = 0"
   ]
  },
  {
   "cell_type": "code",
   "execution_count": 7,
   "id": "8bf83e45-5b7c-4a77-a5aa-8101f4e5e408",
   "metadata": {},
   "outputs": [
    {
     "data": {
      "text/plain": [
       "array([0, 3, 5, 1, 2, 4])"
      ]
     },
     "execution_count": 7,
     "metadata": {},
     "output_type": "execute_result"
    }
   ],
   "source": [
    "df_train['label'].unique()"
   ]
  },
  {
   "cell_type": "code",
   "execution_count": 108,
   "id": "cdfd4dcf-09a2-44b8-9a48-537db54c09fd",
   "metadata": {},
   "outputs": [],
   "source": [
    "df_train.to_csv('preprocess/train.csv', index=False)"
   ]
  },
  {
   "cell_type": "code",
   "execution_count": 9,
   "id": "f399c359-00f1-4c7f-ae18-d99e0fb8507c",
   "metadata": {},
   "outputs": [],
   "source": [
    "df_test.loc[df_test['label'].isin([48, 2, 14, 47]), 'label'] = 1\n",
    "df_test.loc[df_test['label'].isin([7, 3]), 'label'] = 2\n",
    "df_test.loc[df_test['label'].isin([17]), 'label'] = 4\n",
    "df_test.loc[df_test['label'].isin([24, 25, 0]), 'label'] = 3\n",
    "df_train.loc[df_train['label'].isin([5]), 'label'] = 5\n",
    "df_test.loc[df_test['label'].isin([28, 29, 39, 31, 16]), 'label'] = 0"
   ]
  },
  {
   "cell_type": "code",
   "execution_count": 10,
   "id": "7a77e9b5-ee25-4b25-8ed9-3d3d97151e4d",
   "metadata": {},
   "outputs": [
    {
     "data": {
      "text/plain": [
       "array([3, 2, 4, 1, 5])"
      ]
     },
     "execution_count": 10,
     "metadata": {},
     "output_type": "execute_result"
    }
   ],
   "source": [
    "df_test['label'].unique()"
   ]
  },
  {
   "cell_type": "code",
   "execution_count": 11,
   "id": "713af600-5eb8-4015-a7af-99a5ad643725",
   "metadata": {},
   "outputs": [],
   "source": [
    "df_test.to_csv('preprocess/test.csv', index=False)"
   ]
  },
  {
   "cell_type": "code",
   "execution_count": 12,
   "id": "4b16a006-a711-4224-ac73-de2b7e43701d",
   "metadata": {},
   "outputs": [],
   "source": [
    "import pandas as pd \n",
    "\n",
    "df = pd.read_csv('preprocess/train.csv')"
   ]
  },
  {
   "cell_type": "code",
   "execution_count": 13,
   "id": "fb6e1131-b213-4a34-b67b-31fb006c3ec1",
   "metadata": {},
   "outputs": [
    {
     "data": {
      "text/plain": [
       "label\n",
       "0    1081\n",
       "1     116\n",
       "2      91\n",
       "3     590\n",
       "4      42\n",
       "5     136\n",
       "Name: label, dtype: int64"
      ]
     },
     "execution_count": 13,
     "metadata": {},
     "output_type": "execute_result"
    }
   ],
   "source": [
    "df.groupby(['label'])['label'].count()"
   ]
  },
  {
   "cell_type": "code",
   "execution_count": null,
   "id": "907c5882-88a9-43fe-8e09-1a6c85acfb26",
   "metadata": {},
   "outputs": [],
   "source": []
  }
 ],
 "metadata": {
  "kernelspec": {
   "display_name": "Python 3 (ipykernel)",
   "language": "python",
   "name": "python3"
  },
  "language_info": {
   "codemirror_mode": {
    "name": "ipython",
    "version": 3
   },
   "file_extension": ".py",
   "mimetype": "text/x-python",
   "name": "python",
   "nbconvert_exporter": "python",
   "pygments_lexer": "ipython3",
   "version": "3.10.8"
  }
 },
 "nbformat": 4,
 "nbformat_minor": 5
}

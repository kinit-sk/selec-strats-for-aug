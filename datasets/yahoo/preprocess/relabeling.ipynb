{
 "cells": [
  {
   "cell_type": "code",
   "execution_count": 1,
   "id": "4d9b8253-4eec-41e6-a78e-edf36cbc0c22",
   "metadata": {},
   "outputs": [],
   "source": [
    "import pandas as pd"
   ]
  },
  {
   "cell_type": "code",
   "execution_count": 7,
   "id": "bff32179-1856-4b29-944f-b1650b121ce7",
   "metadata": {},
   "outputs": [],
   "source": [
    "df = pd.read_csv('test.csv')\n",
    "df = df[(df['label'] == 0) | (df['label'] == 1) | (df['label'] == 2) | (df['label'] == 3) | (df['label'] == 5) | (df['label'] == 7)]"
   ]
  },
  {
   "cell_type": "code",
   "execution_count": 8,
   "id": "1f1ff433-bbb2-45a6-9e68-e9edf0c1dd77",
   "metadata": {},
   "outputs": [],
   "source": [
    "df = df.drop(['id'], axis=1)"
   ]
  },
  {
   "cell_type": "code",
   "execution_count": 9,
   "id": "b3266c75-0b89-4647-af82-12014f63ce3d",
   "metadata": {},
   "outputs": [],
   "source": [
    "df.loc[df['label'].isin([5]), 'label'] = 4\n",
    "df.loc[df['label'].isin([7]), 'label'] = 5"
   ]
  },
  {
   "cell_type": "code",
   "execution_count": 10,
   "id": "29c3315d-018d-44ac-8faa-5ff783e38f5e",
   "metadata": {},
   "outputs": [
    {
     "data": {
      "text/plain": [
       "array([1, 3, 2, 5, 0, 4])"
      ]
     },
     "execution_count": 10,
     "metadata": {},
     "output_type": "execute_result"
    }
   ],
   "source": [
    "df['label'].unique()"
   ]
  },
  {
   "cell_type": "code",
   "execution_count": 11,
   "id": "75598add-04d3-4e33-ba8e-a6f13c094ff1",
   "metadata": {},
   "outputs": [],
   "source": [
    "df.to_csv('preprocess/test.csv', index=False)"
   ]
  },
  {
   "cell_type": "code",
   "execution_count": null,
   "id": "0f2942ad-53d5-412b-83ac-8f8affbfe1c9",
   "metadata": {},
   "outputs": [],
   "source": []
  }
 ],
 "metadata": {
  "kernelspec": {
   "display_name": "Python 3 (ipykernel)",
   "language": "python",
   "name": "python3"
  },
  "language_info": {
   "codemirror_mode": {
    "name": "ipython",
    "version": 3
   },
   "file_extension": ".py",
   "mimetype": "text/x-python",
   "name": "python",
   "nbconvert_exporter": "python",
   "pygments_lexer": "ipython3",
   "version": "3.10.8"
  }
 },
 "nbformat": 4,
 "nbformat_minor": 5
}
